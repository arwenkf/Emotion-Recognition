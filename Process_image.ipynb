{
 "cells": [
  {
   "cell_type": "code",
   "execution_count": 23,
   "id": "f6cd20f9",
   "metadata": {},
   "outputs": [],
   "source": [
    "import tensorflow as tf\n",
    "import keras\n",
    "from keras.models import model_from_json\n",
    "import numpy as np\n",
    "import matplotlib.image as mpimg\n",
    "import cv2\n",
    "import json\n",
    "import pandas\n",
    "import h5py\n",
    "\n",
    "\n",
    "IMG_HEIGHT = 48\n",
    "IMG_WIDTH = 48\n",
    "\n",
    "class Model(object):\n",
    "    EMOTE_LIST = ['Angry', 'Disgust', 'Fear', 'Happy', 'Sad', 'Surprised', 'Neutral']\n",
    "\n",
    "    def __init__(self, model_json, model_weights):\n",
    "        with open(model_json, \"r\") as json_file:\n",
    "            loaded_model = json_file.read()\n",
    "            self.loaded_model = model_from_json(loaded_model)\n",
    "\n",
    "        self.loaded_model.load_weights(model_weights)\n",
    "\n",
    "    def load_img_from_path(image_path):\n",
    "        image=mpimg.imread(image_path)\n",
    "        image= cv2.imread(image_path, cv2.COLOR_BGR2RGB)\n",
    "        image= cv2.resize(image, (IMG_HEIGHT, IMG_WIDTH), interpolation = cv2.INTER_AREA)\n",
    "        images_arr = []\n",
    "        images_arr.append(np.array(image))\n",
    "        img = np.asarray(images_arr)\n",
    "        img= img.astype('float32')\n",
    "        img /= 255\n",
    "        return img\n",
    "        \n",
    "\n",
    "\n",
    "    def predict_emotion(self, img):\n",
    "        self.preds = self.loaded_model.predict(img)\n",
    "        return Model.EMOTE_LIST[np.argmax(self.preds)]\n",
    "            "
   ]
  },
  {
   "cell_type": "code",
   "execution_count": 24,
   "id": "ed323bed",
   "metadata": {},
   "outputs": [
    {
     "name": "stdout",
     "output_type": "stream",
     "text": [
      "1/1 [==============================] - 0s 336ms/step\n",
      "Neutral\n"
     ]
    }
   ],
   "source": [
    "image_path= r'C:\\Users\\arwen\\OneDrive\\Desktop\\portrait-white-man-isolated_53876-40306.webp'\n",
    "model = Model('model.json', 'model_weights.h5')\n",
    "img = Model.load_img_from_path(image_path)\n",
    "emotion = Model.predict_emotion(model, img)\n",
    "print(emotion)"
   ]
  }
 ],
 "metadata": {
  "kernelspec": {
   "display_name": "tf",
   "language": "python",
   "name": "python3"
  },
  "language_info": {
   "codemirror_mode": {
    "name": "ipython",
    "version": 3
   },
   "file_extension": ".py",
   "mimetype": "text/x-python",
   "name": "python",
   "nbconvert_exporter": "python",
   "pygments_lexer": "ipython3",
   "version": "3.10.0"
  },
  "vscode": {
   "interpreter": {
    "hash": "96b93f55d4e2a0f8e121fa7105cd268a9e7242c2b24470103d06187e796f3803"
   }
  }
 },
 "nbformat": 4,
 "nbformat_minor": 5
}
