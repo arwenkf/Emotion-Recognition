{
 "cells": [
  {
   "cell_type": "code",
   "execution_count": 4,
   "id": "f6cd20f9",
   "metadata": {},
   "outputs": [],
   "source": [
    "import tensorflow as tf\n",
    "import numpy as np\n",
    "import pandas as pd\n",
    "import matplotlib.pyplot as plt\n",
    "from sklearn.model_selection import train_test_split\n",
    "import os\n",
    "import cv2\n",
    "from tensorflow import keras\n",
    "from keras import layers, Input\n",
    "from keras.models import Sequential, Model\n",
    "from matplotlib import pyplot as plt\n",
    "import matplotlib.image as mpimg\n",
    "%matplotlib inline\n",
    "\n",
    "\n",
    "IMG_HEIGHT=200\n",
    "IMG_WIDTH=200\n"
   ]
  },
  {
   "cell_type": "code",
   "execution_count": 6,
   "id": "82156a82",
   "metadata": {},
   "outputs": [
    {
     "name": "stdout",
     "output_type": "stream",
     "text": [
      "   emotion                                             pixels\n",
      "0        0  70 80 82 72 58 58 60 63 54 58 60 48 89 115 121...\n",
      "1        0  151 150 147 155 148 133 111 140 170 174 182 15...\n",
      "2        2  231 212 156 164 174 138 161 173 182 200 106 38...\n",
      "3        4  24 32 36 30 32 23 19 20 30 41 21 22 32 34 21 1...\n",
      "4        6  4 0 0 0 0 0 0 0 0 0 0 0 3 15 23 28 48 50 58 84...\n"
     ]
    }
   ],
   "source": [
    "df=pd.read_csv(r'C:\\Users\\arwen\\OneDrive\\Desktop\\Face Base\\train.csv')\n",
    "print(df.head(5))\n",
    "\n",
    "def pix_to_img(row):\n",
    "\n",
    "    pixels = row['pixels']\n",
    "    image= np.array(pixels.split())\n",
    "    image=image.reshape(48, 48)\n",
    "    full_image = np.zeros((48, 48, 3))\n",
    "    full_image[:,:,0] = image\n",
    "    full_image[:,:,1] = image\n",
    "    full_image[:,:,2]= image\n",
    "    return full_image.astype(np.float32), row['emotion']\n",
    "    \n",
    "#{'Angry': 0, 'Disgust': 1, 'Fear': 2, 'Happy': 3, 'Sad': 4, 'Surprised': 5, 'Neutral': 6}\n",
    "count = 0\n",
    "for i in range(1, df.shape[0]):\n",
    "    face = df.iloc[i]\n",
    "    (img, emote) = pix_to_img(face)\n",
    "    count+=1\n",
    "    if (emote == 0):\n",
    "        path = r'C:\\Users\\arwen\\OneDrive\\Desktop\\Face Base\\Angry'\n",
    "    elif (emote == 1):\n",
    "        path = r'C:\\Users\\arwen\\OneDrive\\Desktop\\Face Base\\Disgust'\n",
    "    elif (emote == 2):\n",
    "        path = r'C:\\Users\\arwen\\OneDrive\\Desktop\\Face Base\\Fear'\n",
    "    elif (emote == 3):\n",
    "        path = r'C:\\Users\\arwen\\OneDrive\\Desktop\\Face Base\\Happy'\n",
    "    elif(emote == 4):\n",
    "        path = r'C:\\Users\\arwen\\OneDrive\\Desktop\\Face Base\\Sad'\n",
    "    elif(emote == 5):\n",
    "        path = r'C:\\Users\\arwen\\OneDrive\\Desktop\\Face Base\\Surprised'\n",
    "    elif(emote == 6):\n",
    "        path = r'C:\\Users\\arwen\\OneDrive\\Desktop\\Face Base\\Neutral'\n",
    "\n",
    "    cv2.imwrite(os.path.join(path, (str(count) + '.jpg')), img)\n",
    "\n"
   ]
  }
 ],
 "metadata": {
  "kernelspec": {
   "display_name": "Python(tf)",
   "language": "python",
   "name": "tf"
  },
  "language_info": {
   "codemirror_mode": {
    "name": "ipython",
    "version": 3
   },
   "file_extension": ".py",
   "mimetype": "text/x-python",
   "name": "python",
   "nbconvert_exporter": "python",
   "pygments_lexer": "ipython3",
   "version": "3.10.0 | packaged by conda-forge | (default, Nov 10 2021, 13:20:59) [MSC v.1916 64 bit (AMD64)]"
  }
 },
 "nbformat": 4,
 "nbformat_minor": 5
}
